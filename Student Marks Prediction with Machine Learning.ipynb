{
 "cells": [
  {
   "cell_type": "markdown",
   "id": "70acecfc",
   "metadata": {},
   "source": [
    "# Student Marks Prediction with Machine Learning"
   ]
  },
  {
   "cell_type": "code",
   "execution_count": 1,
   "id": "6e73a633",
   "metadata": {},
   "outputs": [],
   "source": [
    "# Student Marks Prediction with Machine Learning project "
   ]
  },
  {
   "cell_type": "code",
   "execution_count": 2,
   "id": "3446e877",
   "metadata": {},
   "outputs": [],
   "source": [
    "#libraries"
   ]
  },
  {
   "cell_type": "code",
   "execution_count": 35,
   "id": "76ebf92f",
   "metadata": {},
   "outputs": [],
   "source": [
    "import pandas as pd\n",
    "from pycaret.regression import*\n",
    "import joblib"
   ]
  },
  {
   "cell_type": "code",
   "execution_count": 4,
   "id": "4d11d090",
   "metadata": {},
   "outputs": [],
   "source": [
    "#read the data "
   ]
  },
  {
   "cell_type": "code",
   "execution_count": 5,
   "id": "3591fbaa",
   "metadata": {},
   "outputs": [],
   "source": [
    "df=pd.read_csv(\"Student_Marks.csv\")"
   ]
  },
  {
   "cell_type": "code",
   "execution_count": 6,
   "id": "bcd9f84a",
   "metadata": {},
   "outputs": [],
   "source": [
    "#EDA"
   ]
  },
  {
   "cell_type": "code",
   "execution_count": 8,
   "id": "bec9c31f",
   "metadata": {},
   "outputs": [],
   "source": [
    "# see first 5 cells"
   ]
  },
  {
   "cell_type": "code",
   "execution_count": 7,
   "id": "3e026f5a",
   "metadata": {},
   "outputs": [
    {
     "data": {
      "text/html": [
       "<div>\n",
       "<style scoped>\n",
       "    .dataframe tbody tr th:only-of-type {\n",
       "        vertical-align: middle;\n",
       "    }\n",
       "\n",
       "    .dataframe tbody tr th {\n",
       "        vertical-align: top;\n",
       "    }\n",
       "\n",
       "    .dataframe thead th {\n",
       "        text-align: right;\n",
       "    }\n",
       "</style>\n",
       "<table border=\"1\" class=\"dataframe\">\n",
       "  <thead>\n",
       "    <tr style=\"text-align: right;\">\n",
       "      <th></th>\n",
       "      <th>number_courses</th>\n",
       "      <th>time_study</th>\n",
       "      <th>Marks</th>\n",
       "    </tr>\n",
       "  </thead>\n",
       "  <tbody>\n",
       "    <tr>\n",
       "      <th>0</th>\n",
       "      <td>3</td>\n",
       "      <td>4.508</td>\n",
       "      <td>19.202</td>\n",
       "    </tr>\n",
       "    <tr>\n",
       "      <th>1</th>\n",
       "      <td>4</td>\n",
       "      <td>0.096</td>\n",
       "      <td>7.734</td>\n",
       "    </tr>\n",
       "    <tr>\n",
       "      <th>2</th>\n",
       "      <td>4</td>\n",
       "      <td>3.133</td>\n",
       "      <td>13.811</td>\n",
       "    </tr>\n",
       "    <tr>\n",
       "      <th>3</th>\n",
       "      <td>6</td>\n",
       "      <td>7.909</td>\n",
       "      <td>53.018</td>\n",
       "    </tr>\n",
       "    <tr>\n",
       "      <th>4</th>\n",
       "      <td>8</td>\n",
       "      <td>7.811</td>\n",
       "      <td>55.299</td>\n",
       "    </tr>\n",
       "  </tbody>\n",
       "</table>\n",
       "</div>"
      ],
      "text/plain": [
       "   number_courses  time_study   Marks\n",
       "0               3       4.508  19.202\n",
       "1               4       0.096   7.734\n",
       "2               4       3.133  13.811\n",
       "3               6       7.909  53.018\n",
       "4               8       7.811  55.299"
      ]
     },
     "execution_count": 7,
     "metadata": {},
     "output_type": "execute_result"
    }
   ],
   "source": [
    "df.head()"
   ]
  },
  {
   "cell_type": "code",
   "execution_count": 10,
   "id": "6e0f34f6",
   "metadata": {},
   "outputs": [],
   "source": [
    "#see last 5 cell"
   ]
  },
  {
   "cell_type": "code",
   "execution_count": 11,
   "id": "02992e84",
   "metadata": {},
   "outputs": [
    {
     "data": {
      "text/html": [
       "<div>\n",
       "<style scoped>\n",
       "    .dataframe tbody tr th:only-of-type {\n",
       "        vertical-align: middle;\n",
       "    }\n",
       "\n",
       "    .dataframe tbody tr th {\n",
       "        vertical-align: top;\n",
       "    }\n",
       "\n",
       "    .dataframe thead th {\n",
       "        text-align: right;\n",
       "    }\n",
       "</style>\n",
       "<table border=\"1\" class=\"dataframe\">\n",
       "  <thead>\n",
       "    <tr style=\"text-align: right;\">\n",
       "      <th></th>\n",
       "      <th>number_courses</th>\n",
       "      <th>time_study</th>\n",
       "      <th>Marks</th>\n",
       "    </tr>\n",
       "  </thead>\n",
       "  <tbody>\n",
       "    <tr>\n",
       "      <th>95</th>\n",
       "      <td>6</td>\n",
       "      <td>3.561</td>\n",
       "      <td>19.128</td>\n",
       "    </tr>\n",
       "    <tr>\n",
       "      <th>96</th>\n",
       "      <td>3</td>\n",
       "      <td>0.301</td>\n",
       "      <td>5.609</td>\n",
       "    </tr>\n",
       "    <tr>\n",
       "      <th>97</th>\n",
       "      <td>4</td>\n",
       "      <td>7.163</td>\n",
       "      <td>41.444</td>\n",
       "    </tr>\n",
       "    <tr>\n",
       "      <th>98</th>\n",
       "      <td>7</td>\n",
       "      <td>0.309</td>\n",
       "      <td>12.027</td>\n",
       "    </tr>\n",
       "    <tr>\n",
       "      <th>99</th>\n",
       "      <td>3</td>\n",
       "      <td>6.335</td>\n",
       "      <td>32.357</td>\n",
       "    </tr>\n",
       "  </tbody>\n",
       "</table>\n",
       "</div>"
      ],
      "text/plain": [
       "    number_courses  time_study   Marks\n",
       "95               6       3.561  19.128\n",
       "96               3       0.301   5.609\n",
       "97               4       7.163  41.444\n",
       "98               7       0.309  12.027\n",
       "99               3       6.335  32.357"
      ]
     },
     "execution_count": 11,
     "metadata": {},
     "output_type": "execute_result"
    }
   ],
   "source": [
    "df.tail()"
   ]
  },
  {
   "cell_type": "code",
   "execution_count": 12,
   "id": "9dc0d481",
   "metadata": {},
   "outputs": [],
   "source": [
    "# see data info"
   ]
  },
  {
   "cell_type": "code",
   "execution_count": 14,
   "id": "52742614",
   "metadata": {},
   "outputs": [
    {
     "name": "stdout",
     "output_type": "stream",
     "text": [
      "<class 'pandas.core.frame.DataFrame'>\n",
      "RangeIndex: 100 entries, 0 to 99\n",
      "Data columns (total 3 columns):\n",
      " #   Column          Non-Null Count  Dtype  \n",
      "---  ------          --------------  -----  \n",
      " 0   number_courses  100 non-null    int64  \n",
      " 1   time_study      100 non-null    float64\n",
      " 2   Marks           100 non-null    float64\n",
      "dtypes: float64(2), int64(1)\n",
      "memory usage: 2.5 KB\n"
     ]
    }
   ],
   "source": [
    "df.info()"
   ]
  },
  {
   "cell_type": "code",
   "execution_count": 15,
   "id": "f3bce508",
   "metadata": {},
   "outputs": [],
   "source": [
    "#see df shape"
   ]
  },
  {
   "cell_type": "code",
   "execution_count": 16,
   "id": "256f36fd",
   "metadata": {},
   "outputs": [
    {
     "data": {
      "text/plain": [
       "(100, 3)"
      ]
     },
     "execution_count": 16,
     "metadata": {},
     "output_type": "execute_result"
    }
   ],
   "source": [
    "df.shape"
   ]
  },
  {
   "cell_type": "code",
   "execution_count": 17,
   "id": "cd2ccbd4",
   "metadata": {},
   "outputs": [],
   "source": [
    "#see df corelations"
   ]
  },
  {
   "cell_type": "code",
   "execution_count": 23,
   "id": "1f297500",
   "metadata": {},
   "outputs": [
    {
     "data": {
      "text/html": [
       "<div>\n",
       "<style scoped>\n",
       "    .dataframe tbody tr th:only-of-type {\n",
       "        vertical-align: middle;\n",
       "    }\n",
       "\n",
       "    .dataframe tbody tr th {\n",
       "        vertical-align: top;\n",
       "    }\n",
       "\n",
       "    .dataframe thead th {\n",
       "        text-align: right;\n",
       "    }\n",
       "</style>\n",
       "<table border=\"1\" class=\"dataframe\">\n",
       "  <thead>\n",
       "    <tr style=\"text-align: right;\">\n",
       "      <th></th>\n",
       "      <th>number_courses</th>\n",
       "      <th>time_study</th>\n",
       "      <th>Marks</th>\n",
       "    </tr>\n",
       "  </thead>\n",
       "  <tbody>\n",
       "    <tr>\n",
       "      <th>number_courses</th>\n",
       "      <td>1.000000</td>\n",
       "      <td>0.204844</td>\n",
       "      <td>0.417335</td>\n",
       "    </tr>\n",
       "    <tr>\n",
       "      <th>time_study</th>\n",
       "      <td>0.204844</td>\n",
       "      <td>1.000000</td>\n",
       "      <td>0.942254</td>\n",
       "    </tr>\n",
       "    <tr>\n",
       "      <th>Marks</th>\n",
       "      <td>0.417335</td>\n",
       "      <td>0.942254</td>\n",
       "      <td>1.000000</td>\n",
       "    </tr>\n",
       "  </tbody>\n",
       "</table>\n",
       "</div>"
      ],
      "text/plain": [
       "                number_courses  time_study     Marks\n",
       "number_courses        1.000000    0.204844  0.417335\n",
       "time_study            0.204844    1.000000  0.942254\n",
       "Marks                 0.417335    0.942254  1.000000"
      ]
     },
     "execution_count": 23,
     "metadata": {},
     "output_type": "execute_result"
    }
   ],
   "source": [
    "df.corr()"
   ]
  },
  {
   "cell_type": "code",
   "execution_count": 24,
   "id": "67f1b06e",
   "metadata": {},
   "outputs": [],
   "source": [
    "# we see most important column is time_study"
   ]
  },
  {
   "cell_type": "code",
   "execution_count": 25,
   "id": "9cfb373a",
   "metadata": {},
   "outputs": [],
   "source": [
    "# see null columns"
   ]
  },
  {
   "cell_type": "code",
   "execution_count": 26,
   "id": "e4827772",
   "metadata": {},
   "outputs": [
    {
     "data": {
      "text/plain": [
       "number_courses    0\n",
       "time_study        0\n",
       "Marks             0\n",
       "dtype: int64"
      ]
     },
     "execution_count": 26,
     "metadata": {},
     "output_type": "execute_result"
    }
   ],
   "source": [
    "df.isnull().sum()"
   ]
  },
  {
   "cell_type": "markdown",
   "id": "7d97bf26",
   "metadata": {},
   "source": [
    "### modeling"
   ]
  },
  {
   "cell_type": "code",
   "execution_count": 29,
   "id": "90395b67",
   "metadata": {},
   "outputs": [],
   "source": [
    "# setup model"
   ]
  },
  {
   "cell_type": "code",
   "execution_count": 30,
   "id": "788fd854",
   "metadata": {},
   "outputs": [
    {
     "data": {
      "text/html": [
       "<style type=\"text/css\">\n",
       "#T_88cf5_row8_col1 {\n",
       "  background-color: lightgreen;\n",
       "}\n",
       "</style>\n",
       "<table id=\"T_88cf5_\">\n",
       "  <thead>\n",
       "    <tr>\n",
       "      <th class=\"blank level0\" >&nbsp;</th>\n",
       "      <th class=\"col_heading level0 col0\" >Description</th>\n",
       "      <th class=\"col_heading level0 col1\" >Value</th>\n",
       "    </tr>\n",
       "  </thead>\n",
       "  <tbody>\n",
       "    <tr>\n",
       "      <th id=\"T_88cf5_level0_row0\" class=\"row_heading level0 row0\" >0</th>\n",
       "      <td id=\"T_88cf5_row0_col0\" class=\"data row0 col0\" >Session id</td>\n",
       "      <td id=\"T_88cf5_row0_col1\" class=\"data row0 col1\" >229</td>\n",
       "    </tr>\n",
       "    <tr>\n",
       "      <th id=\"T_88cf5_level0_row1\" class=\"row_heading level0 row1\" >1</th>\n",
       "      <td id=\"T_88cf5_row1_col0\" class=\"data row1 col0\" >Target</td>\n",
       "      <td id=\"T_88cf5_row1_col1\" class=\"data row1 col1\" >Marks</td>\n",
       "    </tr>\n",
       "    <tr>\n",
       "      <th id=\"T_88cf5_level0_row2\" class=\"row_heading level0 row2\" >2</th>\n",
       "      <td id=\"T_88cf5_row2_col0\" class=\"data row2 col0\" >Target type</td>\n",
       "      <td id=\"T_88cf5_row2_col1\" class=\"data row2 col1\" >Regression</td>\n",
       "    </tr>\n",
       "    <tr>\n",
       "      <th id=\"T_88cf5_level0_row3\" class=\"row_heading level0 row3\" >3</th>\n",
       "      <td id=\"T_88cf5_row3_col0\" class=\"data row3 col0\" >Original data shape</td>\n",
       "      <td id=\"T_88cf5_row3_col1\" class=\"data row3 col1\" >(100, 3)</td>\n",
       "    </tr>\n",
       "    <tr>\n",
       "      <th id=\"T_88cf5_level0_row4\" class=\"row_heading level0 row4\" >4</th>\n",
       "      <td id=\"T_88cf5_row4_col0\" class=\"data row4 col0\" >Transformed data shape</td>\n",
       "      <td id=\"T_88cf5_row4_col1\" class=\"data row4 col1\" >(100, 3)</td>\n",
       "    </tr>\n",
       "    <tr>\n",
       "      <th id=\"T_88cf5_level0_row5\" class=\"row_heading level0 row5\" >5</th>\n",
       "      <td id=\"T_88cf5_row5_col0\" class=\"data row5 col0\" >Transformed train set shape</td>\n",
       "      <td id=\"T_88cf5_row5_col1\" class=\"data row5 col1\" >(70, 3)</td>\n",
       "    </tr>\n",
       "    <tr>\n",
       "      <th id=\"T_88cf5_level0_row6\" class=\"row_heading level0 row6\" >6</th>\n",
       "      <td id=\"T_88cf5_row6_col0\" class=\"data row6 col0\" >Transformed test set shape</td>\n",
       "      <td id=\"T_88cf5_row6_col1\" class=\"data row6 col1\" >(30, 3)</td>\n",
       "    </tr>\n",
       "    <tr>\n",
       "      <th id=\"T_88cf5_level0_row7\" class=\"row_heading level0 row7\" >7</th>\n",
       "      <td id=\"T_88cf5_row7_col0\" class=\"data row7 col0\" >Numeric features</td>\n",
       "      <td id=\"T_88cf5_row7_col1\" class=\"data row7 col1\" >2</td>\n",
       "    </tr>\n",
       "    <tr>\n",
       "      <th id=\"T_88cf5_level0_row8\" class=\"row_heading level0 row8\" >8</th>\n",
       "      <td id=\"T_88cf5_row8_col0\" class=\"data row8 col0\" >Preprocess</td>\n",
       "      <td id=\"T_88cf5_row8_col1\" class=\"data row8 col1\" >True</td>\n",
       "    </tr>\n",
       "    <tr>\n",
       "      <th id=\"T_88cf5_level0_row9\" class=\"row_heading level0 row9\" >9</th>\n",
       "      <td id=\"T_88cf5_row9_col0\" class=\"data row9 col0\" >Imputation type</td>\n",
       "      <td id=\"T_88cf5_row9_col1\" class=\"data row9 col1\" >simple</td>\n",
       "    </tr>\n",
       "    <tr>\n",
       "      <th id=\"T_88cf5_level0_row10\" class=\"row_heading level0 row10\" >10</th>\n",
       "      <td id=\"T_88cf5_row10_col0\" class=\"data row10 col0\" >Numeric imputation</td>\n",
       "      <td id=\"T_88cf5_row10_col1\" class=\"data row10 col1\" >mean</td>\n",
       "    </tr>\n",
       "    <tr>\n",
       "      <th id=\"T_88cf5_level0_row11\" class=\"row_heading level0 row11\" >11</th>\n",
       "      <td id=\"T_88cf5_row11_col0\" class=\"data row11 col0\" >Categorical imputation</td>\n",
       "      <td id=\"T_88cf5_row11_col1\" class=\"data row11 col1\" >mode</td>\n",
       "    </tr>\n",
       "    <tr>\n",
       "      <th id=\"T_88cf5_level0_row12\" class=\"row_heading level0 row12\" >12</th>\n",
       "      <td id=\"T_88cf5_row12_col0\" class=\"data row12 col0\" >Fold Generator</td>\n",
       "      <td id=\"T_88cf5_row12_col1\" class=\"data row12 col1\" >KFold</td>\n",
       "    </tr>\n",
       "    <tr>\n",
       "      <th id=\"T_88cf5_level0_row13\" class=\"row_heading level0 row13\" >13</th>\n",
       "      <td id=\"T_88cf5_row13_col0\" class=\"data row13 col0\" >Fold Number</td>\n",
       "      <td id=\"T_88cf5_row13_col1\" class=\"data row13 col1\" >10</td>\n",
       "    </tr>\n",
       "    <tr>\n",
       "      <th id=\"T_88cf5_level0_row14\" class=\"row_heading level0 row14\" >14</th>\n",
       "      <td id=\"T_88cf5_row14_col0\" class=\"data row14 col0\" >CPU Jobs</td>\n",
       "      <td id=\"T_88cf5_row14_col1\" class=\"data row14 col1\" >-1</td>\n",
       "    </tr>\n",
       "    <tr>\n",
       "      <th id=\"T_88cf5_level0_row15\" class=\"row_heading level0 row15\" >15</th>\n",
       "      <td id=\"T_88cf5_row15_col0\" class=\"data row15 col0\" >Use GPU</td>\n",
       "      <td id=\"T_88cf5_row15_col1\" class=\"data row15 col1\" >False</td>\n",
       "    </tr>\n",
       "    <tr>\n",
       "      <th id=\"T_88cf5_level0_row16\" class=\"row_heading level0 row16\" >16</th>\n",
       "      <td id=\"T_88cf5_row16_col0\" class=\"data row16 col0\" >Log Experiment</td>\n",
       "      <td id=\"T_88cf5_row16_col1\" class=\"data row16 col1\" >False</td>\n",
       "    </tr>\n",
       "    <tr>\n",
       "      <th id=\"T_88cf5_level0_row17\" class=\"row_heading level0 row17\" >17</th>\n",
       "      <td id=\"T_88cf5_row17_col0\" class=\"data row17 col0\" >Experiment Name</td>\n",
       "      <td id=\"T_88cf5_row17_col1\" class=\"data row17 col1\" >reg-default-name</td>\n",
       "    </tr>\n",
       "    <tr>\n",
       "      <th id=\"T_88cf5_level0_row18\" class=\"row_heading level0 row18\" >18</th>\n",
       "      <td id=\"T_88cf5_row18_col0\" class=\"data row18 col0\" >USI</td>\n",
       "      <td id=\"T_88cf5_row18_col1\" class=\"data row18 col1\" >0355</td>\n",
       "    </tr>\n",
       "  </tbody>\n",
       "</table>\n"
      ],
      "text/plain": [
       "<pandas.io.formats.style.Styler at 0x14598258e80>"
      ]
     },
     "metadata": {},
     "output_type": "display_data"
    },
    {
     "data": {
      "text/plain": [
       "<pycaret.regression.oop.RegressionExperiment at 0x145f1543d90>"
      ]
     },
     "execution_count": 30,
     "metadata": {},
     "output_type": "execute_result"
    }
   ],
   "source": [
    "setup(data=df,target='Marks')"
   ]
  },
  {
   "cell_type": "code",
   "execution_count": 32,
   "id": "12f3418e",
   "metadata": {},
   "outputs": [],
   "source": [
    "# model compare"
   ]
  },
  {
   "cell_type": "code",
   "execution_count": 31,
   "id": "b833c2d0",
   "metadata": {},
   "outputs": [
    {
     "data": {
      "text/html": [],
      "text/plain": [
       "<IPython.core.display.HTML object>"
      ]
     },
     "metadata": {},
     "output_type": "display_data"
    },
    {
     "data": {
      "text/html": [
       "<style type=\"text/css\">\n",
       "#T_b2354_ th {\n",
       "  text-align: left;\n",
       "}\n",
       "#T_b2354_row0_col0, #T_b2354_row1_col0, #T_b2354_row1_col1, #T_b2354_row1_col2, #T_b2354_row1_col3, #T_b2354_row1_col4, #T_b2354_row1_col5, #T_b2354_row1_col6, #T_b2354_row2_col0, #T_b2354_row2_col1, #T_b2354_row2_col2, #T_b2354_row2_col3, #T_b2354_row2_col4, #T_b2354_row2_col5, #T_b2354_row2_col6, #T_b2354_row3_col0, #T_b2354_row3_col1, #T_b2354_row3_col2, #T_b2354_row3_col3, #T_b2354_row3_col4, #T_b2354_row3_col5, #T_b2354_row3_col6, #T_b2354_row4_col0, #T_b2354_row4_col1, #T_b2354_row4_col2, #T_b2354_row4_col3, #T_b2354_row4_col4, #T_b2354_row4_col5, #T_b2354_row4_col6, #T_b2354_row5_col0, #T_b2354_row5_col1, #T_b2354_row5_col2, #T_b2354_row5_col3, #T_b2354_row5_col4, #T_b2354_row5_col5, #T_b2354_row5_col6, #T_b2354_row6_col0, #T_b2354_row6_col1, #T_b2354_row6_col2, #T_b2354_row6_col3, #T_b2354_row6_col4, #T_b2354_row6_col5, #T_b2354_row6_col6, #T_b2354_row7_col0, #T_b2354_row7_col1, #T_b2354_row7_col2, #T_b2354_row7_col3, #T_b2354_row7_col4, #T_b2354_row7_col5, #T_b2354_row7_col6, #T_b2354_row8_col0, #T_b2354_row8_col1, #T_b2354_row8_col2, #T_b2354_row8_col3, #T_b2354_row8_col4, #T_b2354_row8_col5, #T_b2354_row8_col6, #T_b2354_row9_col0, #T_b2354_row9_col1, #T_b2354_row9_col2, #T_b2354_row9_col3, #T_b2354_row9_col4, #T_b2354_row9_col5, #T_b2354_row9_col6, #T_b2354_row10_col0, #T_b2354_row10_col1, #T_b2354_row10_col2, #T_b2354_row10_col3, #T_b2354_row10_col4, #T_b2354_row10_col5, #T_b2354_row10_col6, #T_b2354_row11_col0, #T_b2354_row11_col1, #T_b2354_row11_col2, #T_b2354_row11_col3, #T_b2354_row11_col4, #T_b2354_row11_col5, #T_b2354_row11_col6, #T_b2354_row12_col0, #T_b2354_row12_col1, #T_b2354_row12_col2, #T_b2354_row12_col3, #T_b2354_row12_col4, #T_b2354_row12_col5, #T_b2354_row12_col6, #T_b2354_row13_col0, #T_b2354_row13_col1, #T_b2354_row13_col2, #T_b2354_row13_col3, #T_b2354_row13_col4, #T_b2354_row13_col5, #T_b2354_row13_col6, #T_b2354_row14_col0, #T_b2354_row14_col1, #T_b2354_row14_col2, #T_b2354_row14_col3, #T_b2354_row14_col4, #T_b2354_row14_col5, #T_b2354_row14_col6, #T_b2354_row15_col0, #T_b2354_row15_col1, #T_b2354_row15_col2, #T_b2354_row15_col3, #T_b2354_row15_col4, #T_b2354_row15_col5, #T_b2354_row15_col6, #T_b2354_row16_col0, #T_b2354_row16_col1, #T_b2354_row16_col2, #T_b2354_row16_col3, #T_b2354_row16_col4, #T_b2354_row16_col5, #T_b2354_row16_col6, #T_b2354_row17_col0, #T_b2354_row17_col1, #T_b2354_row17_col2, #T_b2354_row17_col3, #T_b2354_row17_col4, #T_b2354_row17_col5, #T_b2354_row17_col6, #T_b2354_row18_col0, #T_b2354_row18_col1, #T_b2354_row18_col2, #T_b2354_row18_col3, #T_b2354_row18_col4, #T_b2354_row18_col5, #T_b2354_row18_col6, #T_b2354_row19_col0, #T_b2354_row19_col1, #T_b2354_row19_col2, #T_b2354_row19_col3, #T_b2354_row19_col4, #T_b2354_row19_col5, #T_b2354_row19_col6 {\n",
       "  text-align: left;\n",
       "}\n",
       "#T_b2354_row0_col1, #T_b2354_row0_col2, #T_b2354_row0_col3, #T_b2354_row0_col4, #T_b2354_row0_col5, #T_b2354_row0_col6 {\n",
       "  text-align: left;\n",
       "  background-color: yellow;\n",
       "}\n",
       "#T_b2354_row0_col7, #T_b2354_row1_col7, #T_b2354_row2_col7, #T_b2354_row3_col7, #T_b2354_row4_col7, #T_b2354_row5_col7, #T_b2354_row6_col7, #T_b2354_row7_col7, #T_b2354_row8_col7, #T_b2354_row10_col7, #T_b2354_row11_col7, #T_b2354_row12_col7, #T_b2354_row13_col7, #T_b2354_row14_col7, #T_b2354_row15_col7, #T_b2354_row16_col7, #T_b2354_row17_col7, #T_b2354_row18_col7, #T_b2354_row19_col7 {\n",
       "  text-align: left;\n",
       "  background-color: lightgrey;\n",
       "}\n",
       "#T_b2354_row9_col7 {\n",
       "  text-align: left;\n",
       "  background-color: yellow;\n",
       "  background-color: lightgrey;\n",
       "}\n",
       "</style>\n",
       "<table id=\"T_b2354_\">\n",
       "  <thead>\n",
       "    <tr>\n",
       "      <th class=\"blank level0\" >&nbsp;</th>\n",
       "      <th class=\"col_heading level0 col0\" >Model</th>\n",
       "      <th class=\"col_heading level0 col1\" >MAE</th>\n",
       "      <th class=\"col_heading level0 col2\" >MSE</th>\n",
       "      <th class=\"col_heading level0 col3\" >RMSE</th>\n",
       "      <th class=\"col_heading level0 col4\" >R2</th>\n",
       "      <th class=\"col_heading level0 col5\" >RMSLE</th>\n",
       "      <th class=\"col_heading level0 col6\" >MAPE</th>\n",
       "      <th class=\"col_heading level0 col7\" >TT (Sec)</th>\n",
       "    </tr>\n",
       "  </thead>\n",
       "  <tbody>\n",
       "    <tr>\n",
       "      <th id=\"T_b2354_level0_row0\" class=\"row_heading level0 row0\" >et</th>\n",
       "      <td id=\"T_b2354_row0_col0\" class=\"data row0 col0\" >Extra Trees Regressor</td>\n",
       "      <td id=\"T_b2354_row0_col1\" class=\"data row0 col1\" >0.6794</td>\n",
       "      <td id=\"T_b2354_row0_col2\" class=\"data row0 col2\" >0.8792</td>\n",
       "      <td id=\"T_b2354_row0_col3\" class=\"data row0 col3\" >0.8479</td>\n",
       "      <td id=\"T_b2354_row0_col4\" class=\"data row0 col4\" >0.9907</td>\n",
       "      <td id=\"T_b2354_row0_col5\" class=\"data row0 col5\" >0.0380</td>\n",
       "      <td id=\"T_b2354_row0_col6\" class=\"data row0 col6\" >0.0346</td>\n",
       "      <td id=\"T_b2354_row0_col7\" class=\"data row0 col7\" >0.0780</td>\n",
       "    </tr>\n",
       "    <tr>\n",
       "      <th id=\"T_b2354_level0_row1\" class=\"row_heading level0 row1\" >catboost</th>\n",
       "      <td id=\"T_b2354_row1_col0\" class=\"data row1 col0\" >CatBoost Regressor</td>\n",
       "      <td id=\"T_b2354_row1_col1\" class=\"data row1 col1\" >0.8525</td>\n",
       "      <td id=\"T_b2354_row1_col2\" class=\"data row1 col2\" >2.9009</td>\n",
       "      <td id=\"T_b2354_row1_col3\" class=\"data row1 col3\" >1.2660</td>\n",
       "      <td id=\"T_b2354_row1_col4\" class=\"data row1 col4\" >0.9835</td>\n",
       "      <td id=\"T_b2354_row1_col5\" class=\"data row1 col5\" >0.0482</td>\n",
       "      <td id=\"T_b2354_row1_col6\" class=\"data row1 col6\" >0.0406</td>\n",
       "      <td id=\"T_b2354_row1_col7\" class=\"data row1 col7\" >0.2820</td>\n",
       "    </tr>\n",
       "    <tr>\n",
       "      <th id=\"T_b2354_level0_row2\" class=\"row_heading level0 row2\" >gbr</th>\n",
       "      <td id=\"T_b2354_row2_col0\" class=\"data row2 col0\" >Gradient Boosting Regressor</td>\n",
       "      <td id=\"T_b2354_row2_col1\" class=\"data row2 col1\" >1.2541</td>\n",
       "      <td id=\"T_b2354_row2_col2\" class=\"data row2 col2\" >3.1460</td>\n",
       "      <td id=\"T_b2354_row2_col3\" class=\"data row2 col3\" >1.5497</td>\n",
       "      <td id=\"T_b2354_row2_col4\" class=\"data row2 col4\" >0.9705</td>\n",
       "      <td id=\"T_b2354_row2_col5\" class=\"data row2 col5\" >0.0623</td>\n",
       "      <td id=\"T_b2354_row2_col6\" class=\"data row2 col6\" >0.0562</td>\n",
       "      <td id=\"T_b2354_row2_col7\" class=\"data row2 col7\" >0.0340</td>\n",
       "    </tr>\n",
       "    <tr>\n",
       "      <th id=\"T_b2354_level0_row3\" class=\"row_heading level0 row3\" >rf</th>\n",
       "      <td id=\"T_b2354_row3_col0\" class=\"data row3 col0\" >Random Forest Regressor</td>\n",
       "      <td id=\"T_b2354_row3_col1\" class=\"data row3 col1\" >1.5744</td>\n",
       "      <td id=\"T_b2354_row3_col2\" class=\"data row3 col2\" >4.6332</td>\n",
       "      <td id=\"T_b2354_row3_col3\" class=\"data row3 col3\" >1.8936</td>\n",
       "      <td id=\"T_b2354_row3_col4\" class=\"data row3 col4\" >0.9536</td>\n",
       "      <td id=\"T_b2354_row3_col5\" class=\"data row3 col5\" >0.0806</td>\n",
       "      <td id=\"T_b2354_row3_col6\" class=\"data row3 col6\" >0.0756</td>\n",
       "      <td id=\"T_b2354_row3_col7\" class=\"data row3 col7\" >0.1010</td>\n",
       "    </tr>\n",
       "    <tr>\n",
       "      <th id=\"T_b2354_level0_row4\" class=\"row_heading level0 row4\" >xgboost</th>\n",
       "      <td id=\"T_b2354_row4_col0\" class=\"data row4 col0\" >Extreme Gradient Boosting</td>\n",
       "      <td id=\"T_b2354_row4_col1\" class=\"data row4 col1\" >1.4309</td>\n",
       "      <td id=\"T_b2354_row4_col2\" class=\"data row4 col2\" >4.8893</td>\n",
       "      <td id=\"T_b2354_row4_col3\" class=\"data row4 col3\" >1.8730</td>\n",
       "      <td id=\"T_b2354_row4_col4\" class=\"data row4 col4\" >0.9527</td>\n",
       "      <td id=\"T_b2354_row4_col5\" class=\"data row4 col5\" >0.0753</td>\n",
       "      <td id=\"T_b2354_row4_col6\" class=\"data row4 col6\" >0.0635</td>\n",
       "      <td id=\"T_b2354_row4_col7\" class=\"data row4 col7\" >0.0360</td>\n",
       "    </tr>\n",
       "    <tr>\n",
       "      <th id=\"T_b2354_level0_row5\" class=\"row_heading level0 row5\" >knn</th>\n",
       "      <td id=\"T_b2354_row5_col0\" class=\"data row5 col0\" >K Neighbors Regressor</td>\n",
       "      <td id=\"T_b2354_row5_col1\" class=\"data row5 col1\" >1.8182</td>\n",
       "      <td id=\"T_b2354_row5_col2\" class=\"data row5 col2\" >7.9510</td>\n",
       "      <td id=\"T_b2354_row5_col3\" class=\"data row5 col3\" >2.4965</td>\n",
       "      <td id=\"T_b2354_row5_col4\" class=\"data row5 col4\" >0.9476</td>\n",
       "      <td id=\"T_b2354_row5_col5\" class=\"data row5 col5\" >0.0863</td>\n",
       "      <td id=\"T_b2354_row5_col6\" class=\"data row5 col6\" >0.0787</td>\n",
       "      <td id=\"T_b2354_row5_col7\" class=\"data row5 col7\" >0.0210</td>\n",
       "    </tr>\n",
       "    <tr>\n",
       "      <th id=\"T_b2354_level0_row6\" class=\"row_heading level0 row6\" >dt</th>\n",
       "      <td id=\"T_b2354_row6_col0\" class=\"data row6 col0\" >Decision Tree Regressor</td>\n",
       "      <td id=\"T_b2354_row6_col1\" class=\"data row6 col1\" >1.8424</td>\n",
       "      <td id=\"T_b2354_row6_col2\" class=\"data row6 col2\" >5.8590</td>\n",
       "      <td id=\"T_b2354_row6_col3\" class=\"data row6 col3\" >2.2928</td>\n",
       "      <td id=\"T_b2354_row6_col4\" class=\"data row6 col4\" >0.9409</td>\n",
       "      <td id=\"T_b2354_row6_col5\" class=\"data row6 col5\" >0.1001</td>\n",
       "      <td id=\"T_b2354_row6_col6\" class=\"data row6 col6\" >0.0922</td>\n",
       "      <td id=\"T_b2354_row6_col7\" class=\"data row6 col7\" >0.0170</td>\n",
       "    </tr>\n",
       "    <tr>\n",
       "      <th id=\"T_b2354_level0_row7\" class=\"row_heading level0 row7\" >ada</th>\n",
       "      <td id=\"T_b2354_row7_col0\" class=\"data row7 col0\" >AdaBoost Regressor</td>\n",
       "      <td id=\"T_b2354_row7_col1\" class=\"data row7 col1\" >2.1112</td>\n",
       "      <td id=\"T_b2354_row7_col2\" class=\"data row7 col2\" >6.6330</td>\n",
       "      <td id=\"T_b2354_row7_col3\" class=\"data row7 col3\" >2.4074</td>\n",
       "      <td id=\"T_b2354_row7_col4\" class=\"data row7 col4\" >0.9294</td>\n",
       "      <td id=\"T_b2354_row7_col5\" class=\"data row7 col5\" >0.1254</td>\n",
       "      <td id=\"T_b2354_row7_col6\" class=\"data row7 col6\" >0.1188</td>\n",
       "      <td id=\"T_b2354_row7_col7\" class=\"data row7 col7\" >0.0440</td>\n",
       "    </tr>\n",
       "    <tr>\n",
       "      <th id=\"T_b2354_level0_row8\" class=\"row_heading level0 row8\" >en</th>\n",
       "      <td id=\"T_b2354_row8_col0\" class=\"data row8 col0\" >Elastic Net</td>\n",
       "      <td id=\"T_b2354_row8_col1\" class=\"data row8 col1\" >3.1217</td>\n",
       "      <td id=\"T_b2354_row8_col2\" class=\"data row8 col2\" >13.8797</td>\n",
       "      <td id=\"T_b2354_row8_col3\" class=\"data row8 col3\" >3.5892</td>\n",
       "      <td id=\"T_b2354_row8_col4\" class=\"data row8 col4\" >0.8625</td>\n",
       "      <td id=\"T_b2354_row8_col5\" class=\"data row8 col5\" >0.2018</td>\n",
       "      <td id=\"T_b2354_row8_col6\" class=\"data row8 col6\" >0.1690</td>\n",
       "      <td id=\"T_b2354_row8_col7\" class=\"data row8 col7\" >0.0170</td>\n",
       "    </tr>\n",
       "    <tr>\n",
       "      <th id=\"T_b2354_level0_row9\" class=\"row_heading level0 row9\" >llar</th>\n",
       "      <td id=\"T_b2354_row9_col0\" class=\"data row9 col0\" >Lasso Least Angle Regression</td>\n",
       "      <td id=\"T_b2354_row9_col1\" class=\"data row9 col1\" >2.9363</td>\n",
       "      <td id=\"T_b2354_row9_col2\" class=\"data row9 col2\" >12.3029</td>\n",
       "      <td id=\"T_b2354_row9_col3\" class=\"data row9 col3\" >3.4213</td>\n",
       "      <td id=\"T_b2354_row9_col4\" class=\"data row9 col4\" >0.8621</td>\n",
       "      <td id=\"T_b2354_row9_col5\" class=\"data row9 col5\" >0.2665</td>\n",
       "      <td id=\"T_b2354_row9_col6\" class=\"data row9 col6\" >0.1759</td>\n",
       "      <td id=\"T_b2354_row9_col7\" class=\"data row9 col7\" >0.0160</td>\n",
       "    </tr>\n",
       "    <tr>\n",
       "      <th id=\"T_b2354_level0_row10\" class=\"row_heading level0 row10\" >lasso</th>\n",
       "      <td id=\"T_b2354_row10_col0\" class=\"data row10 col0\" >Lasso Regression</td>\n",
       "      <td id=\"T_b2354_row10_col1\" class=\"data row10 col1\" >2.9363</td>\n",
       "      <td id=\"T_b2354_row10_col2\" class=\"data row10 col2\" >12.3029</td>\n",
       "      <td id=\"T_b2354_row10_col3\" class=\"data row10 col3\" >3.4213</td>\n",
       "      <td id=\"T_b2354_row10_col4\" class=\"data row10 col4\" >0.8621</td>\n",
       "      <td id=\"T_b2354_row10_col5\" class=\"data row10 col5\" >0.2665</td>\n",
       "      <td id=\"T_b2354_row10_col6\" class=\"data row10 col6\" >0.1759</td>\n",
       "      <td id=\"T_b2354_row10_col7\" class=\"data row10 col7\" >0.0170</td>\n",
       "    </tr>\n",
       "    <tr>\n",
       "      <th id=\"T_b2354_level0_row11\" class=\"row_heading level0 row11\" >ridge</th>\n",
       "      <td id=\"T_b2354_row11_col0\" class=\"data row11 col0\" >Ridge Regression</td>\n",
       "      <td id=\"T_b2354_row11_col1\" class=\"data row11 col1\" >2.8929</td>\n",
       "      <td id=\"T_b2354_row11_col2\" class=\"data row11 col2\" >11.8432</td>\n",
       "      <td id=\"T_b2354_row11_col3\" class=\"data row11 col3\" >3.3744</td>\n",
       "      <td id=\"T_b2354_row11_col4\" class=\"data row11 col4\" >0.8612</td>\n",
       "      <td id=\"T_b2354_row11_col5\" class=\"data row11 col5\" >0.3260</td>\n",
       "      <td id=\"T_b2354_row11_col6\" class=\"data row11 col6\" >0.1827</td>\n",
       "      <td id=\"T_b2354_row11_col7\" class=\"data row11 col7\" >0.0180</td>\n",
       "    </tr>\n",
       "    <tr>\n",
       "      <th id=\"T_b2354_level0_row12\" class=\"row_heading level0 row12\" >br</th>\n",
       "      <td id=\"T_b2354_row12_col0\" class=\"data row12 col0\" >Bayesian Ridge</td>\n",
       "      <td id=\"T_b2354_row12_col1\" class=\"data row12 col1\" >2.8932</td>\n",
       "      <td id=\"T_b2354_row12_col2\" class=\"data row12 col2\" >11.8460</td>\n",
       "      <td id=\"T_b2354_row12_col3\" class=\"data row12 col3\" >3.3748</td>\n",
       "      <td id=\"T_b2354_row12_col4\" class=\"data row12 col4\" >0.8609</td>\n",
       "      <td id=\"T_b2354_row12_col5\" class=\"data row12 col5\" >0.3281</td>\n",
       "      <td id=\"T_b2354_row12_col6\" class=\"data row12 col6\" >0.1830</td>\n",
       "      <td id=\"T_b2354_row12_col7\" class=\"data row12 col7\" >0.0170</td>\n",
       "    </tr>\n",
       "    <tr>\n",
       "      <th id=\"T_b2354_level0_row13\" class=\"row_heading level0 row13\" >lr</th>\n",
       "      <td id=\"T_b2354_row13_col0\" class=\"data row13 col0\" >Linear Regression</td>\n",
       "      <td id=\"T_b2354_row13_col1\" class=\"data row13 col1\" >2.8930</td>\n",
       "      <td id=\"T_b2354_row13_col2\" class=\"data row13 col2\" >11.8433</td>\n",
       "      <td id=\"T_b2354_row13_col3\" class=\"data row13 col3\" >3.3746</td>\n",
       "      <td id=\"T_b2354_row13_col4\" class=\"data row13 col4\" >0.8605</td>\n",
       "      <td id=\"T_b2354_row13_col5\" class=\"data row13 col5\" >0.3324</td>\n",
       "      <td id=\"T_b2354_row13_col6\" class=\"data row13 col6\" >0.1836</td>\n",
       "      <td id=\"T_b2354_row13_col7\" class=\"data row13 col7\" >1.2050</td>\n",
       "    </tr>\n",
       "    <tr>\n",
       "      <th id=\"T_b2354_level0_row14\" class=\"row_heading level0 row14\" >lar</th>\n",
       "      <td id=\"T_b2354_row14_col0\" class=\"data row14 col0\" >Least Angle Regression</td>\n",
       "      <td id=\"T_b2354_row14_col1\" class=\"data row14 col1\" >2.8930</td>\n",
       "      <td id=\"T_b2354_row14_col2\" class=\"data row14 col2\" >11.8433</td>\n",
       "      <td id=\"T_b2354_row14_col3\" class=\"data row14 col3\" >3.3746</td>\n",
       "      <td id=\"T_b2354_row14_col4\" class=\"data row14 col4\" >0.8605</td>\n",
       "      <td id=\"T_b2354_row14_col5\" class=\"data row14 col5\" >0.3324</td>\n",
       "      <td id=\"T_b2354_row14_col6\" class=\"data row14 col6\" >0.1836</td>\n",
       "      <td id=\"T_b2354_row14_col7\" class=\"data row14 col7\" >0.0170</td>\n",
       "    </tr>\n",
       "    <tr>\n",
       "      <th id=\"T_b2354_level0_row15\" class=\"row_heading level0 row15\" >huber</th>\n",
       "      <td id=\"T_b2354_row15_col0\" class=\"data row15 col0\" >Huber Regressor</td>\n",
       "      <td id=\"T_b2354_row15_col1\" class=\"data row15 col1\" >2.9005</td>\n",
       "      <td id=\"T_b2354_row15_col2\" class=\"data row15 col2\" >12.8789</td>\n",
       "      <td id=\"T_b2354_row15_col3\" class=\"data row15 col3\" >3.5231</td>\n",
       "      <td id=\"T_b2354_row15_col4\" class=\"data row15 col4\" >0.8539</td>\n",
       "      <td id=\"T_b2354_row15_col5\" class=\"data row15 col5\" >0.4043</td>\n",
       "      <td id=\"T_b2354_row15_col6\" class=\"data row15 col6\" >0.1896</td>\n",
       "      <td id=\"T_b2354_row15_col7\" class=\"data row15 col7\" >0.0170</td>\n",
       "    </tr>\n",
       "    <tr>\n",
       "      <th id=\"T_b2354_level0_row16\" class=\"row_heading level0 row16\" >lightgbm</th>\n",
       "      <td id=\"T_b2354_row16_col0\" class=\"data row16 col0\" >Light Gradient Boosting Machine</td>\n",
       "      <td id=\"T_b2354_row16_col1\" class=\"data row16 col1\" >3.0219</td>\n",
       "      <td id=\"T_b2354_row16_col2\" class=\"data row16 col2\" >18.7845</td>\n",
       "      <td id=\"T_b2354_row16_col3\" class=\"data row16 col3\" >4.0936</td>\n",
       "      <td id=\"T_b2354_row16_col4\" class=\"data row16 col4\" >0.8505</td>\n",
       "      <td id=\"T_b2354_row16_col5\" class=\"data row16 col5\" >0.1657</td>\n",
       "      <td id=\"T_b2354_row16_col6\" class=\"data row16 col6\" >0.1417</td>\n",
       "      <td id=\"T_b2354_row16_col7\" class=\"data row16 col7\" >0.0420</td>\n",
       "    </tr>\n",
       "    <tr>\n",
       "      <th id=\"T_b2354_level0_row17\" class=\"row_heading level0 row17\" >par</th>\n",
       "      <td id=\"T_b2354_row17_col0\" class=\"data row17 col0\" >Passive Aggressive Regressor</td>\n",
       "      <td id=\"T_b2354_row17_col1\" class=\"data row17 col1\" >3.6892</td>\n",
       "      <td id=\"T_b2354_row17_col2\" class=\"data row17 col2\" >19.2200</td>\n",
       "      <td id=\"T_b2354_row17_col3\" class=\"data row17 col3\" >4.1446</td>\n",
       "      <td id=\"T_b2354_row17_col4\" class=\"data row17 col4\" >0.8241</td>\n",
       "      <td id=\"T_b2354_row17_col5\" class=\"data row17 col5\" >0.2450</td>\n",
       "      <td id=\"T_b2354_row17_col6\" class=\"data row17 col6\" >0.2066</td>\n",
       "      <td id=\"T_b2354_row17_col7\" class=\"data row17 col7\" >0.0180</td>\n",
       "    </tr>\n",
       "    <tr>\n",
       "      <th id=\"T_b2354_level0_row18\" class=\"row_heading level0 row18\" >omp</th>\n",
       "      <td id=\"T_b2354_row18_col0\" class=\"data row18 col0\" >Orthogonal Matching Pursuit</td>\n",
       "      <td id=\"T_b2354_row18_col1\" class=\"data row18 col1\" >3.9584</td>\n",
       "      <td id=\"T_b2354_row18_col2\" class=\"data row18 col2\" >22.8387</td>\n",
       "      <td id=\"T_b2354_row18_col3\" class=\"data row18 col3\" >4.7212</td>\n",
       "      <td id=\"T_b2354_row18_col4\" class=\"data row18 col4\" >0.7376</td>\n",
       "      <td id=\"T_b2354_row18_col5\" class=\"data row18 col5\" >0.3659</td>\n",
       "      <td id=\"T_b2354_row18_col6\" class=\"data row18 col6\" >0.2285</td>\n",
       "      <td id=\"T_b2354_row18_col7\" class=\"data row18 col7\" >0.0170</td>\n",
       "    </tr>\n",
       "    <tr>\n",
       "      <th id=\"T_b2354_level0_row19\" class=\"row_heading level0 row19\" >dummy</th>\n",
       "      <td id=\"T_b2354_row19_col0\" class=\"data row19 col0\" >Dummy Regressor</td>\n",
       "      <td id=\"T_b2354_row19_col1\" class=\"data row19 col1\" >11.3034</td>\n",
       "      <td id=\"T_b2354_row19_col2\" class=\"data row19 col2\" >185.6481</td>\n",
       "      <td id=\"T_b2354_row19_col3\" class=\"data row19 col3\" >13.4875</td>\n",
       "      <td id=\"T_b2354_row19_col4\" class=\"data row19 col4\" >-0.7318</td>\n",
       "      <td id=\"T_b2354_row19_col5\" class=\"data row19 col5\" >0.5949</td>\n",
       "      <td id=\"T_b2354_row19_col6\" class=\"data row19 col6\" >0.7123</td>\n",
       "      <td id=\"T_b2354_row19_col7\" class=\"data row19 col7\" >0.0170</td>\n",
       "    </tr>\n",
       "  </tbody>\n",
       "</table>\n"
      ],
      "text/plain": [
       "<pandas.io.formats.style.Styler at 0x14597890070>"
      ]
     },
     "metadata": {},
     "output_type": "display_data"
    },
    {
     "data": {
      "application/vnd.jupyter.widget-view+json": {
       "model_id": "",
       "version_major": 2,
       "version_minor": 0
      },
      "text/plain": [
       "Processing:   0%|          | 0/85 [00:00<?, ?it/s]"
      ]
     },
     "metadata": {},
     "output_type": "display_data"
    },
    {
     "data": {
      "text/html": [
       "<style>#sk-container-id-1 {color: black;background-color: white;}#sk-container-id-1 pre{padding: 0;}#sk-container-id-1 div.sk-toggleable {background-color: white;}#sk-container-id-1 label.sk-toggleable__label {cursor: pointer;display: block;width: 100%;margin-bottom: 0;padding: 0.3em;box-sizing: border-box;text-align: center;}#sk-container-id-1 label.sk-toggleable__label-arrow:before {content: \"▸\";float: left;margin-right: 0.25em;color: #696969;}#sk-container-id-1 label.sk-toggleable__label-arrow:hover:before {color: black;}#sk-container-id-1 div.sk-estimator:hover label.sk-toggleable__label-arrow:before {color: black;}#sk-container-id-1 div.sk-toggleable__content {max-height: 0;max-width: 0;overflow: hidden;text-align: left;background-color: #f0f8ff;}#sk-container-id-1 div.sk-toggleable__content pre {margin: 0.2em;color: black;border-radius: 0.25em;background-color: #f0f8ff;}#sk-container-id-1 input.sk-toggleable__control:checked~div.sk-toggleable__content {max-height: 200px;max-width: 100%;overflow: auto;}#sk-container-id-1 input.sk-toggleable__control:checked~label.sk-toggleable__label-arrow:before {content: \"▾\";}#sk-container-id-1 div.sk-estimator input.sk-toggleable__control:checked~label.sk-toggleable__label {background-color: #d4ebff;}#sk-container-id-1 div.sk-label input.sk-toggleable__control:checked~label.sk-toggleable__label {background-color: #d4ebff;}#sk-container-id-1 input.sk-hidden--visually {border: 0;clip: rect(1px 1px 1px 1px);clip: rect(1px, 1px, 1px, 1px);height: 1px;margin: -1px;overflow: hidden;padding: 0;position: absolute;width: 1px;}#sk-container-id-1 div.sk-estimator {font-family: monospace;background-color: #f0f8ff;border: 1px dotted black;border-radius: 0.25em;box-sizing: border-box;margin-bottom: 0.5em;}#sk-container-id-1 div.sk-estimator:hover {background-color: #d4ebff;}#sk-container-id-1 div.sk-parallel-item::after {content: \"\";width: 100%;border-bottom: 1px solid gray;flex-grow: 1;}#sk-container-id-1 div.sk-label:hover label.sk-toggleable__label {background-color: #d4ebff;}#sk-container-id-1 div.sk-serial::before {content: \"\";position: absolute;border-left: 1px solid gray;box-sizing: border-box;top: 0;bottom: 0;left: 50%;z-index: 0;}#sk-container-id-1 div.sk-serial {display: flex;flex-direction: column;align-items: center;background-color: white;padding-right: 0.2em;padding-left: 0.2em;position: relative;}#sk-container-id-1 div.sk-item {position: relative;z-index: 1;}#sk-container-id-1 div.sk-parallel {display: flex;align-items: stretch;justify-content: center;background-color: white;position: relative;}#sk-container-id-1 div.sk-item::before, #sk-container-id-1 div.sk-parallel-item::before {content: \"\";position: absolute;border-left: 1px solid gray;box-sizing: border-box;top: 0;bottom: 0;left: 50%;z-index: -1;}#sk-container-id-1 div.sk-parallel-item {display: flex;flex-direction: column;z-index: 1;position: relative;background-color: white;}#sk-container-id-1 div.sk-parallel-item:first-child::after {align-self: flex-end;width: 50%;}#sk-container-id-1 div.sk-parallel-item:last-child::after {align-self: flex-start;width: 50%;}#sk-container-id-1 div.sk-parallel-item:only-child::after {width: 0;}#sk-container-id-1 div.sk-dashed-wrapped {border: 1px dashed gray;margin: 0 0.4em 0.5em 0.4em;box-sizing: border-box;padding-bottom: 0.4em;background-color: white;}#sk-container-id-1 div.sk-label label {font-family: monospace;font-weight: bold;display: inline-block;line-height: 1.2em;}#sk-container-id-1 div.sk-label-container {text-align: center;}#sk-container-id-1 div.sk-container {/* jupyter's `normalize.less` sets `[hidden] { display: none; }` but bootstrap.min.css set `[hidden] { display: none !important; }` so we also need the `!important` here to be able to override the default hidden behavior on the sphinx rendered scikit-learn.org. See: https://github.com/scikit-learn/scikit-learn/issues/21755 */display: inline-block !important;position: relative;}#sk-container-id-1 div.sk-text-repr-fallback {display: none;}</style><div id=\"sk-container-id-1\" class=\"sk-top-container\"><div class=\"sk-text-repr-fallback\"><pre>ExtraTreesRegressor(n_jobs=-1, random_state=229)</pre><b>In a Jupyter environment, please rerun this cell to show the HTML representation or trust the notebook. <br />On GitHub, the HTML representation is unable to render, please try loading this page with nbviewer.org.</b></div><div class=\"sk-container\" hidden><div class=\"sk-item\"><div class=\"sk-estimator sk-toggleable\"><input class=\"sk-toggleable__control sk-hidden--visually\" id=\"sk-estimator-id-1\" type=\"checkbox\" checked><label for=\"sk-estimator-id-1\" class=\"sk-toggleable__label sk-toggleable__label-arrow\">ExtraTreesRegressor</label><div class=\"sk-toggleable__content\"><pre>ExtraTreesRegressor(n_jobs=-1, random_state=229)</pre></div></div></div></div></div>"
      ],
      "text/plain": [
       "ExtraTreesRegressor(n_jobs=-1, random_state=229)"
      ]
     },
     "execution_count": 31,
     "metadata": {},
     "output_type": "execute_result"
    }
   ],
   "source": [
    "compare_models()"
   ]
  },
  {
   "cell_type": "code",
   "execution_count": 34,
   "id": "c0a8bd9c",
   "metadata": {},
   "outputs": [],
   "source": [
    "# croos over best model"
   ]
  },
  {
   "cell_type": "code",
   "execution_count": 33,
   "id": "fe956365",
   "metadata": {},
   "outputs": [
    {
     "data": {
      "text/html": [],
      "text/plain": [
       "<IPython.core.display.HTML object>"
      ]
     },
     "metadata": {},
     "output_type": "display_data"
    },
    {
     "data": {
      "text/html": [
       "<style type=\"text/css\">\n",
       "#T_5989e_row10_col0, #T_5989e_row10_col1, #T_5989e_row10_col2, #T_5989e_row10_col3, #T_5989e_row10_col4, #T_5989e_row10_col5 {\n",
       "  background: yellow;\n",
       "}\n",
       "</style>\n",
       "<table id=\"T_5989e_\">\n",
       "  <thead>\n",
       "    <tr>\n",
       "      <th class=\"blank level0\" >&nbsp;</th>\n",
       "      <th class=\"col_heading level0 col0\" >MAE</th>\n",
       "      <th class=\"col_heading level0 col1\" >MSE</th>\n",
       "      <th class=\"col_heading level0 col2\" >RMSE</th>\n",
       "      <th class=\"col_heading level0 col3\" >R2</th>\n",
       "      <th class=\"col_heading level0 col4\" >RMSLE</th>\n",
       "      <th class=\"col_heading level0 col5\" >MAPE</th>\n",
       "    </tr>\n",
       "    <tr>\n",
       "      <th class=\"index_name level0\" >Fold</th>\n",
       "      <th class=\"blank col0\" >&nbsp;</th>\n",
       "      <th class=\"blank col1\" >&nbsp;</th>\n",
       "      <th class=\"blank col2\" >&nbsp;</th>\n",
       "      <th class=\"blank col3\" >&nbsp;</th>\n",
       "      <th class=\"blank col4\" >&nbsp;</th>\n",
       "      <th class=\"blank col5\" >&nbsp;</th>\n",
       "    </tr>\n",
       "  </thead>\n",
       "  <tbody>\n",
       "    <tr>\n",
       "      <th id=\"T_5989e_level0_row0\" class=\"row_heading level0 row0\" >0</th>\n",
       "      <td id=\"T_5989e_row0_col0\" class=\"data row0 col0\" >0.2868</td>\n",
       "      <td id=\"T_5989e_row0_col1\" class=\"data row0 col1\" >0.1696</td>\n",
       "      <td id=\"T_5989e_row0_col2\" class=\"data row0 col2\" >0.4119</td>\n",
       "      <td id=\"T_5989e_row0_col3\" class=\"data row0 col3\" >0.9991</td>\n",
       "      <td id=\"T_5989e_row0_col4\" class=\"data row0 col4\" >0.0166</td>\n",
       "      <td id=\"T_5989e_row0_col5\" class=\"data row0 col5\" >0.0126</td>\n",
       "    </tr>\n",
       "    <tr>\n",
       "      <th id=\"T_5989e_level0_row1\" class=\"row_heading level0 row1\" >1</th>\n",
       "      <td id=\"T_5989e_row1_col0\" class=\"data row1 col0\" >0.7225</td>\n",
       "      <td id=\"T_5989e_row1_col1\" class=\"data row1 col1\" >1.2976</td>\n",
       "      <td id=\"T_5989e_row1_col2\" class=\"data row1 col2\" >1.1391</td>\n",
       "      <td id=\"T_5989e_row1_col3\" class=\"data row1 col3\" >0.9942</td>\n",
       "      <td id=\"T_5989e_row1_col4\" class=\"data row1 col4\" >0.0441</td>\n",
       "      <td id=\"T_5989e_row1_col5\" class=\"data row1 col5\" >0.0381</td>\n",
       "    </tr>\n",
       "    <tr>\n",
       "      <th id=\"T_5989e_level0_row2\" class=\"row_heading level0 row2\" >2</th>\n",
       "      <td id=\"T_5989e_row2_col0\" class=\"data row2 col0\" >0.6625</td>\n",
       "      <td id=\"T_5989e_row2_col1\" class=\"data row2 col1\" >0.7359</td>\n",
       "      <td id=\"T_5989e_row2_col2\" class=\"data row2 col2\" >0.8579</td>\n",
       "      <td id=\"T_5989e_row2_col3\" class=\"data row2 col3\" >0.9964</td>\n",
       "      <td id=\"T_5989e_row2_col4\" class=\"data row2 col4\" >0.0295</td>\n",
       "      <td id=\"T_5989e_row2_col5\" class=\"data row2 col5\" >0.0264</td>\n",
       "    </tr>\n",
       "    <tr>\n",
       "      <th id=\"T_5989e_level0_row3\" class=\"row_heading level0 row3\" >3</th>\n",
       "      <td id=\"T_5989e_row3_col0\" class=\"data row3 col0\" >0.3908</td>\n",
       "      <td id=\"T_5989e_row3_col1\" class=\"data row3 col1\" >0.2198</td>\n",
       "      <td id=\"T_5989e_row3_col2\" class=\"data row3 col2\" >0.4689</td>\n",
       "      <td id=\"T_5989e_row3_col3\" class=\"data row3 col3\" >0.9917</td>\n",
       "      <td id=\"T_5989e_row3_col4\" class=\"data row3 col4\" >0.0280</td>\n",
       "      <td id=\"T_5989e_row3_col5\" class=\"data row3 col5\" >0.0265</td>\n",
       "    </tr>\n",
       "    <tr>\n",
       "      <th id=\"T_5989e_level0_row4\" class=\"row_heading level0 row4\" >4</th>\n",
       "      <td id=\"T_5989e_row4_col0\" class=\"data row4 col0\" >0.4051</td>\n",
       "      <td id=\"T_5989e_row4_col1\" class=\"data row4 col1\" >0.3643</td>\n",
       "      <td id=\"T_5989e_row4_col2\" class=\"data row4 col2\" >0.6035</td>\n",
       "      <td id=\"T_5989e_row4_col3\" class=\"data row4 col3\" >0.9979</td>\n",
       "      <td id=\"T_5989e_row4_col4\" class=\"data row4 col4\" >0.0222</td>\n",
       "      <td id=\"T_5989e_row4_col5\" class=\"data row4 col5\" >0.0160</td>\n",
       "    </tr>\n",
       "    <tr>\n",
       "      <th id=\"T_5989e_level0_row5\" class=\"row_heading level0 row5\" >5</th>\n",
       "      <td id=\"T_5989e_row5_col0\" class=\"data row5 col0\" >0.7822</td>\n",
       "      <td id=\"T_5989e_row5_col1\" class=\"data row5 col1\" >0.9035</td>\n",
       "      <td id=\"T_5989e_row5_col2\" class=\"data row5 col2\" >0.9505</td>\n",
       "      <td id=\"T_5989e_row5_col3\" class=\"data row5 col3\" >0.9954</td>\n",
       "      <td id=\"T_5989e_row5_col4\" class=\"data row5 col4\" >0.0367</td>\n",
       "      <td id=\"T_5989e_row5_col5\" class=\"data row5 col5\" >0.0351</td>\n",
       "    </tr>\n",
       "    <tr>\n",
       "      <th id=\"T_5989e_level0_row6\" class=\"row_heading level0 row6\" >6</th>\n",
       "      <td id=\"T_5989e_row6_col0\" class=\"data row6 col0\" >1.6231</td>\n",
       "      <td id=\"T_5989e_row6_col1\" class=\"data row6 col1\" >3.3619</td>\n",
       "      <td id=\"T_5989e_row6_col2\" class=\"data row6 col2\" >1.8336</td>\n",
       "      <td id=\"T_5989e_row6_col3\" class=\"data row6 col3\" >0.9576</td>\n",
       "      <td id=\"T_5989e_row6_col4\" class=\"data row6 col4\" >0.0555</td>\n",
       "      <td id=\"T_5989e_row6_col5\" class=\"data row6 col5\" >0.0531</td>\n",
       "    </tr>\n",
       "    <tr>\n",
       "      <th id=\"T_5989e_level0_row7\" class=\"row_heading level0 row7\" >7</th>\n",
       "      <td id=\"T_5989e_row7_col0\" class=\"data row7 col0\" >0.7320</td>\n",
       "      <td id=\"T_5989e_row7_col1\" class=\"data row7 col1\" >0.6836</td>\n",
       "      <td id=\"T_5989e_row7_col2\" class=\"data row7 col2\" >0.8268</td>\n",
       "      <td id=\"T_5989e_row7_col3\" class=\"data row7 col3\" >0.9812</td>\n",
       "      <td id=\"T_5989e_row7_col4\" class=\"data row7 col4\" >0.0500</td>\n",
       "      <td id=\"T_5989e_row7_col5\" class=\"data row7 col5\" >0.0477</td>\n",
       "    </tr>\n",
       "    <tr>\n",
       "      <th id=\"T_5989e_level0_row8\" class=\"row_heading level0 row8\" >8</th>\n",
       "      <td id=\"T_5989e_row8_col0\" class=\"data row8 col0\" >0.7685</td>\n",
       "      <td id=\"T_5989e_row8_col1\" class=\"data row8 col1\" >0.8281</td>\n",
       "      <td id=\"T_5989e_row8_col2\" class=\"data row8 col2\" >0.9100</td>\n",
       "      <td id=\"T_5989e_row8_col3\" class=\"data row8 col3\" >0.9947</td>\n",
       "      <td id=\"T_5989e_row8_col4\" class=\"data row8 col4\" >0.0648</td>\n",
       "      <td id=\"T_5989e_row8_col5\" class=\"data row8 col5\" >0.0625</td>\n",
       "    </tr>\n",
       "    <tr>\n",
       "      <th id=\"T_5989e_level0_row9\" class=\"row_heading level0 row9\" >9</th>\n",
       "      <td id=\"T_5989e_row9_col0\" class=\"data row9 col0\" >0.4209</td>\n",
       "      <td id=\"T_5989e_row9_col1\" class=\"data row9 col1\" >0.2273</td>\n",
       "      <td id=\"T_5989e_row9_col2\" class=\"data row9 col2\" >0.4768</td>\n",
       "      <td id=\"T_5989e_row9_col3\" class=\"data row9 col3\" >0.9985</td>\n",
       "      <td id=\"T_5989e_row9_col4\" class=\"data row9 col4\" >0.0320</td>\n",
       "      <td id=\"T_5989e_row9_col5\" class=\"data row9 col5\" >0.0282</td>\n",
       "    </tr>\n",
       "    <tr>\n",
       "      <th id=\"T_5989e_level0_row10\" class=\"row_heading level0 row10\" >Mean</th>\n",
       "      <td id=\"T_5989e_row10_col0\" class=\"data row10 col0\" >0.6794</td>\n",
       "      <td id=\"T_5989e_row10_col1\" class=\"data row10 col1\" >0.8792</td>\n",
       "      <td id=\"T_5989e_row10_col2\" class=\"data row10 col2\" >0.8479</td>\n",
       "      <td id=\"T_5989e_row10_col3\" class=\"data row10 col3\" >0.9907</td>\n",
       "      <td id=\"T_5989e_row10_col4\" class=\"data row10 col4\" >0.0380</td>\n",
       "      <td id=\"T_5989e_row10_col5\" class=\"data row10 col5\" >0.0346</td>\n",
       "    </tr>\n",
       "    <tr>\n",
       "      <th id=\"T_5989e_level0_row11\" class=\"row_heading level0 row11\" >Std</th>\n",
       "      <td id=\"T_5989e_row11_col0\" class=\"data row11 col0\" >0.3597</td>\n",
       "      <td id=\"T_5989e_row11_col1\" class=\"data row11 col1\" >0.8961</td>\n",
       "      <td id=\"T_5989e_row11_col2\" class=\"data row11 col2\" >0.4003</td>\n",
       "      <td id=\"T_5989e_row11_col3\" class=\"data row11 col3\" >0.0121</td>\n",
       "      <td id=\"T_5989e_row11_col4\" class=\"data row11 col4\" >0.0146</td>\n",
       "      <td id=\"T_5989e_row11_col5\" class=\"data row11 col5\" >0.0152</td>\n",
       "    </tr>\n",
       "  </tbody>\n",
       "</table>\n"
      ],
      "text/plain": [
       "<pandas.io.formats.style.Styler at 0x14595999370>"
      ]
     },
     "metadata": {},
     "output_type": "display_data"
    },
    {
     "data": {
      "application/vnd.jupyter.widget-view+json": {
       "model_id": "",
       "version_major": 2,
       "version_minor": 0
      },
      "text/plain": [
       "Processing:   0%|          | 0/4 [00:00<?, ?it/s]"
      ]
     },
     "metadata": {},
     "output_type": "display_data"
    }
   ],
   "source": [
    "best_model = create_model('et')"
   ]
  },
  {
   "cell_type": "code",
   "execution_count": 36,
   "id": "2766fb3c",
   "metadata": {},
   "outputs": [],
   "source": [
    "#model save"
   ]
  },
  {
   "cell_type": "code",
   "execution_count": 38,
   "id": "04a94359",
   "metadata": {},
   "outputs": [
    {
     "data": {
      "text/plain": [
       "['model_student.joblib']"
      ]
     },
     "execution_count": 38,
     "metadata": {},
     "output_type": "execute_result"
    }
   ],
   "source": [
    "joblib.dump(best_model,\"model_student.joblib\")"
   ]
  },
  {
   "cell_type": "code",
   "execution_count": 39,
   "id": "fe9b0aed",
   "metadata": {},
   "outputs": [],
   "source": [
    "#sources"
   ]
  },
  {
   "cell_type": "markdown",
   "id": "86c70605",
   "metadata": {},
   "source": [
    "-Zafer Acar Notes"
   ]
  }
 ],
 "metadata": {
  "kernelspec": {
   "display_name": "Python 3 (ipykernel)",
   "language": "python",
   "name": "python3"
  },
  "language_info": {
   "codemirror_mode": {
    "name": "ipython",
    "version": 3
   },
   "file_extension": ".py",
   "mimetype": "text/x-python",
   "name": "python",
   "nbconvert_exporter": "python",
   "pygments_lexer": "ipython3",
   "version": "3.9.13"
  }
 },
 "nbformat": 4,
 "nbformat_minor": 5
}
